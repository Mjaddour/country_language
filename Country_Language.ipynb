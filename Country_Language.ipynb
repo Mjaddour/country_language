{
 "cells": [
  {
   "cell_type": "code",
   "execution_count": 1,
   "id": "293bf24f-1bea-4495-975d-9380b70a745b",
   "metadata": {},
   "outputs": [],
   "source": [
    "# imports\n",
    "import os\n",
    "from dotenv import load_dotenv\n",
    "from openai import OpenAI\n",
    "from IPython.display import Markdown, display, update_display\n",
    "import gradio as gr\n",
    "import json\n",
    "from pydub import AudioSegment\n",
    "from pydub.playback import play\n",
    "import base64\n",
    "from io import BytesIO\n",
    "from PIL import Image\n",
    "import tempfile\n",
    "import subprocess\n",
    "from io import BytesIO\n",
    "from pydub import AudioSegment\n",
    "import time\n"
    "import torch\n"
   ]
  },
  {
   "cell_type": "code",
   "execution_count": 2,
   "id": "9a29f361-fb54-4734-a8d6-06c94e810b79",
   "metadata": {},
   "outputs": [
    {
     "name": "stdout",
     "output_type": "stream",
     "text": [
      "OpenAI API key exists and begins sk-pr\n"
     ]
    }
   ],
   "source": [
    "load_dotenv()\n",
    "\n",
    "openai_api_key = os.getenv(\"OPENAI_API_KEY\")\n",
    "if openai_api_key:\n",
    "    print(f\"OpenAI API key exists and begins {openai_api_key[:5]}\")\n",
    "else:\n",
    "    print(\"OpenAI Key is not found\")\n",
    "\n",
    "MODEL = \"gpt-4o-mini\"\n",
    "openai = OpenAI()"
   ]
  },
  {
   "cell_type": "code",
   "execution_count": 3,
   "id": "9198737b-f253-4637-a81b-c55a38de973b",
   "metadata": {},
   "outputs": [],
   "source": [
    "system_message = \"You are a helful assistance for people wanted to know each country what luanguage they speak\"\n",
    "system_message += \"Give a short, courteous answers, no more than 3 sentences.\"\n",
    "system_message += \"Always be accurate. If you don't know the answer, say so.\""
   ]
  },
  {
   "cell_type": "code",
   "execution_count": 4,
   "id": "dfea6334-3428-46e2-8c40-216ef78d3ebe",
   "metadata": {},
   "outputs": [],
   "source": [
    "country_languages = {\n",
    "    \"afghanistan\": [\"Pashto\", \"Dari\"], \"albania\": [\"Albanian\"], \"algeria\": [\"Arabic\", \"Berber\"], \"andorra\": [\"Catalan\"], \"angola\": [\"Portuguese\"], \"argentina\": [\"Spanish\"],\n",
    "    \"armenia\": [\"Armenian\"], \"australia\": [\"English\"], \"austria\": [\"German\"], \"azerbaijan\": [\"Azerbaijani\"],\n",
    "    \"bahamas\": [\"English\"], \"bahrain\": [\"Arabic\"], \"bangladesh\": [\"Bengali\"], \"barbados\": [\"English\"], \"belarus\": [\"Belarusian\", \"Russian\"],\n",
    "    \"belgium\": [\"Dutch\", \"French\", \"German\"], \"belize\": [\"English\"], \"benin\": [\"French\"], \"bhutan\": [\"Dzongkha\"], \"bolivia\": [\"Spanish\", \"Quechua\", \"Aymara\"],\n",
    "    \"bosnia and herzegovina\": [\"Bosnian\", \"Croatian\", \"Serbian\"], \"botswana\": [\"English\", \"Tswana\"], \"brazil\": [\"Portuguese\"], \"brunei\": [\"Malay\"], \"bulgaria\": [\"Bulgarian\"],\n",
    "    \"burkina faso\": [\"French\"], \"burundi\": [\"Kirundi\", \"French\"],\n",
    "    \"cambodia\": [\"Khmer\"], \"cameroon\": [\"English\", \"French\"], \"canada\": [\"English\", \"French\"], \"cape verde\": [\"Portuguese\"], \"central african republic\": [\"French\", \"Sango\"],\n",
    "    \"chad\": [\"French\", \"Arabic\"], \"chile\": [\"Spanish\"], \"china\": [\"Mandarin\"], \"colombia\": [\"Spanish\"], \"comoros\": [\"Comorian\", \"Arabic\", \"French\"],\n",
    "    \"congo (congo-brazzaville)\": [\"French\", \"Lingala\", \"Kikongo\"], \"congo (congo-kinshasa)\": [\"French\", \"Lingala\", \"Kikongo\", \"Swahili\"], \"costa rica\": [\"Spanish\"],\n",
    "    \"croatia\": [\"Croatian\"], \"cuba\": [\"Spanish\"], \"cyprus\": [\"Greek\", \"Turkish\"], \"czech republic\": [\"Czech\"],\n",
    "    \"denmark\": [\"Danish\"], \"djibouti\": [\"French\", \"Arabic\"], \"dominica\": [\"English\"], \"dominican republic\": [\"Spanish\"],\n",
    "    \"ecuador\": [\"Spanish\"], \"egypt\": [\"Arabic\"], \"el salvador\": [\"Spanish\"], \"equatorial guinea\": [\"Spanish\", \"French\", \"Portuguese\"], \"eritrea\": [\"Tigrinya\", \"Arabic\", \"English\"],\n",
    "    \"estonia\": [\"Estonian\"], \"eswatini\": [\"Swati\", \"English\"], \"ethiopia\": [\"Amharic\"],\n",
    "    \"fiji\": [\"English\", \"Fijian\", \"Hindi\"], \"finland\": [\"Finnish\", \"Swedish\"], \"france\": [\"French\"],\n",
    "    \"gabon\": [\"French\"], \"gambia\": [\"English\"], \"georgia\": [\"Georgian\"], \"germany\": [\"German\"], \"ghana\": [\"English\"], \"greece\": [\"Greek\"], \"grenada\": [\"English\"],\n",
    "    \"guatemala\": [\"Spanish\"], \"guinea\": [\"French\"], \"guinea-bissau\": [\"Portuguese\"], \"guyana\": [\"English\"],\n",
    "    \"haiti\": [\"French\", \"Haitian Creole\"], \"honduras\": [\"Spanish\"], \"hungary\": [\"Hungarian\"],\n",
    "    \"iceland\": [\"Icelandic\"], \"india\": [\"Hindi\", \"English\"], \"indonesia\": [\"Indonesian\"], \"iran\": [\"Persian\"], \"iraq\": [\"Arabic\", \"Kurdish\"], \"ireland\": [\"English\", \"Irish\"],\n",
    "    \"israel\": [\"Hebrew\", \"Arabic\"], \"italy\": [\"Italian\"],\n",
    "    \"jamaica\": [\"English\"], \"japan\": [\"Japanese\"], \"jordan\": [\"Arabic\"],\n",
    "    \"kazakhstan\": [\"Kazakh\", \"Russian\"], \"kenya\": [\"Swahili\", \"English\"], \"kiribati\": [\"English\", \"Gilbertese\"], \"kuwait\": [\"Arabic\"], \"kyrgyzstan\": [\"Kyrgyz\", \"Russian\"],\n",
    "    \"laos\": [\"Lao\"], \"latvia\": [\"Latvian\"], \"lebanon\": [\"Arabic\", \"French\"], \"lesotho\": [\"Sesotho\", \"English\"], \"liberia\": [\"English\"], \"libya\": [\"Arabic\"],\n",
    "    \"liechtenstein\": [\"German\"], \"lithuania\": [\"Lithuanian\"], \"luxembourg\": [\"Luxembourgish\", \"French\", \"German\"],\n",
    "    \"madagascar\": [\"Malagasy\", \"French\"], \"malawi\": [\"English\", \"Chichewa\"], \"malaysia\": [\"Malay\"], \"maldives\": [\"Dhivehi\"], \"mali\": [\"French\"], \"malta\": [\"Maltese\", \"English\"],\n",
    "    \"marshall islands\": [\"Marshallese\", \"English\"], \"mauritania\": [\"Arabic\"], \"mauritius\": [\"English\", \"French\"], \"mexico\": [\"Spanish\"], \"micronesia\": [\"English\"],\n",
    "    \"moldova\": [\"Romanian\"], \"monaco\": [\"French\"], \"mongolia\": [\"Mongolian\"], \"montenegro\": [\"Montenegrin\"], \"morocco\": [\"Arabic\", \"Berber\"], \"mozambique\": [\"Portuguese\"],\n",
    "    \"myanmar (burma)\": [\"Burmese\"],\n",
    "    \"namibia\": [\"English\"], \"nauru\": [\"Nauruan\", \"English\"], \"nepal\": [\"Nepali\"], \"netherlands\": [\"Dutch\"], \"new zealand\": [\"English\", \"Maori\"], \"nicaragua\": [\"Spanish\"],\n",
    "    \"niger\": [\"French\"], \"nigeria\": [\"English\"], \"north korea\": [\"Korean\"], \"north macedonia\": [\"Macedonian\", \"Albanian\"], \"norway\": [\"Norwegian\"],\n",
    "    \"oman\": [\"Arabic\"],\n",
    "    \"pakistan\": [\"Urdu\", \"English\"], \"palau\": [\"Palauan\", \"English\"], \"palestine\": [\"Arabic\"], \"panama\": [\"Spanish\"], \"papua new guinea\": [\"English\", \"Tok Pisin\", \"Hiri Motu\"],\n",
    "    \"paraguay\": [\"Spanish\", \"Guarani\"], \"peru\": [\"Spanish\", \"Quechua\"], \"philippines\": [\"Filipino\", \"English\"], \"poland\": [\"Polish\"], \"portugal\": [\"Portuguese\"],\n",
    "    \"qatar\": [\"Arabic\"],\n",
    "    \"romania\": [\"Romanian\"], \"russia\": [\"Russian\"], \"rwanda\": [\"Kinyarwanda\", \"English\", \"French\"],\n",
    "    \"saint kitts and nevis\": [\"English\"], \"saint lucia\": [\"English\"], \"saint vincent and the grenadines\": [\"English\"], \"samoa\": [\"Samoan\", \"English\"], \"san marino\": [\"Italian\"],\n",
    "    \"sao tome and principe\": [\"Portuguese\"], \"saudi arabia\": [\"Arabic\"], \"senegal\": [\"French\"], \"serbia\": [\"Serbian\"], \"seychelles\": [\"French\", \"English\", \"Creole\"],\n",
    "    \"sierra leone\": [\"English\"], \"singapore\": [\"English\", \"Malay\", \"Mandarin\", \"Tamil\"], \"slovakia\": [\"Slovak\"], \"slovenia\": [\"Slovene\"], \"solomon islands\": [\"English\"],\n",
    "    \"somalia\": [\"Somali\", \"Arabic\"], \"south africa\": [\"Zulu\", \"Xhosa\", \"Afrikaans\", \"English\", \"Swati\", \"Ndebele\", \"Sesotho\", \"Tswana\", \"Venda\", \"Tsonga\"],\n",
    "    \"south korea\": [\"Korean\"], \"spain\": [\"Spanish\"], \"sri lanka\": [\"Sinhala\", \"Tamil\"], \"sudan\": [\"Arabic\", \"English\"], \"suriname\": [\"Dutch\"], \"sweden\": [\"Swedish\"],\n",
    "    \"switzerland\": [\"German\", \"French\", \"Italian\", \"Romansh\"], \"syria\": [\"Arabic\"],\n",
    "    \"taiwan\": [\"Mandarin\"], \"tajikistan\": [\"Tajik\"], \"tanzania\": [\"Swahili\", \"English\"], \"thailand\": [\"Thai\"], \"timor-leste\": [\"Portuguese\", \"Tetum\"], \"togo\": [\"French\"],\n",
    "    \"tonga\": [\"Tongan\", \"English\"], \"trinidad and tobago\": [\"English\"], \"tunisia\": [\"Arabic\"], \"turkey\": [\"Turkish\"], \"turkmenistan\": [\"Turkmen\"], \"tuvalu\": [\"Tuvaluan\", \"English\"],\n",
    "    \"uganda\": [\"English\", \"Swahili\"], \"ukraine\": [\"Ukrainian\"], \"united arab emirates\": [\"Arabic\"], \"united kingdom\": [\"English\"], \"united states\": [\"English\"],\n",
    "    \"uruguay\": [\"Spanish\"], \"uzbekistan\": [\"Uzbek\"],\n",
    "    \"vanuatu\": [\"Bislama\", \"English\", \"French\"], \"vatican city\": [\"Latin\", \"Italian\"], \"venezuela\": [\"Spanish\"], \"vietnam\": [\"Vietnamese\"],\n",
    "    \"yemen\": [\"Arabic\"],\n",
    "    \"zambia\": [\"English\"], \"zimbabwe\": [\"English\", \"Shona\", \"Ndebele\"]\n",
    "}\n",
    "\n",
    "\n",
    "def get_country_language(country_language_called):\n",
    "    print(f\"Tool get_country_language called for {country_language_called}\")\n",
    "    country = country_language_called.lower()\n",
    "    return country_languages.get(country, \"Unknown\")"
   ]
  },
  {
   "cell_type": "code",
   "execution_count": 5,
   "id": "94195265-9cf8-43ef-8a21-7c388b7c8b0f",
   "metadata": {},
   "outputs": [
    {
     "name": "stdout",
     "output_type": "stream",
     "text": [
      "Tool get_country_language called for Morocco\n"
     ]
    },
    {
     "data": {
      "text/plain": [
       "['Arabic', 'Berber']"
      ]
     },
     "execution_count": 5,
     "metadata": {},
     "output_type": "execute_result"
    }
   ],
   "source": [
    "get_country_language(\"Morocco\")"
   ]
  },
  {
   "cell_type": "code",
   "execution_count": 6,
   "id": "da0f6adb-b8ea-4f91-98fd-a6c323a10cf0",
   "metadata": {},
   "outputs": [],
   "source": [
    "language_function = {\n",
    "    \"name\": \"get_country_language\",\n",
    "    \"description\": \"Get the languages spoken in a given country. Call this whenever you need to know the languages spoken in a country, for example when a customer asks 'What languages are spoken in this country?'\",\n",
    "    \"parameters\": {\n",
    "        \"type\": \"object\",\n",
    "        \"properties\": {\n",
    "            \"country_name\": {\n",
    "                \"type\": \"string\",\n",
    "                \"description\": \"The name of the country the customer wants to know the languages for\",\n",
    "            },\n",
    "        },\n",
    "        \"required\": [\"country_name\"],\n",
    "        \"additionalProperties\": False\n",
    "    }\n",
    "}\n"
   ]
  },
  {
   "cell_type": "code",
   "execution_count": 7,
   "id": "5787534b-38c0-45bc-837b-e23c128b4ba9",
   "metadata": {},
   "outputs": [],
   "source": [
    "tools = [{\"type\": \"function\", \"function\": language_function}]"
   ]
  },
  {
   "cell_type": "code",
   "execution_count": 8,
   "id": "e77ff0c4-ca28-4cd9-a806-f9645d9bce48",
   "metadata": {},
   "outputs": [],
   "source": [
    "def chat(message, history):\n",
    "    messages = [{\"role\": \"system\", \"content\": system_message}] + history + [{\"role\": \"user\", \"content\": message}]\n",
    "    response = openai.chat.completions.create(model=MODEL, messages=messages, tools=tools)\n",
    "\n",
    "    if response.choices[0].finish_reason==\"tool_calls\":\n",
    "        message = response.choices[0].message\n",
    "        response, country = handle_tool_call(message)\n",
    "        messages.append(message)\n",
    "        messages.append(response)\n",
    "        response = openai.chat.completions.create(model=MODEL, messages=messages)\n",
    "\n",
    "    return response.choices[0].message.content"
   ]
  },
  {
   "cell_type": "code",
   "execution_count": 9,
   "id": "fc8a1c0f-9f3a-4d88-9734-3d45895542b9",
   "metadata": {},
   "outputs": [],
   "source": [
    "def handle_tool_call(message):\n",
    "    tool_call = message.tool_calls[0]\n",
    "    argument = json.loads(tool_call.function.arguments)\n",
    "    country = argument.get(\"country_name\")\n",
    "    language = get_country_language(country)\n",
    "    response = {\n",
    "        \"role\": \"tool\",\n",
    "        \"content\": json.dumps({\"country_name\": country,\"language\": language}),\n",
    "        \"tool_call_id\": message.tool_calls[0].id\n",
    "    }\n",
    "    return response, country\n",
    "    "
   ]
  },
  {
   "cell_type": "code",
   "execution_count": 10,
   "id": "d5553f9a-12dd-43ed-9f02-0c8c9c4c0e09",
   "metadata": {},
   "outputs": [],
   "source": [
    "# create a picture\n",
    "def artist(city):\n",
    "    image_response = openai.images.generate(\n",
    "        model=\"dall-e-3\",\n",
    "        prompt=f\"An image representing the {city}\",\n",
    "        size=\"1024x1024\",\n",
    "        n=1,\n",
    "        response_format=\"b64_json\",)\n",
    "    image_base64 = image_response.data[0].b64_json\n",
    "    image_data = base64.b64decode(image_base64)\n",
    "    return Image.open(BytesIO(image_data))"
   ]
  },
  {
   "cell_type": "code",
   "execution_count": 11,
   "id": "8861df0a-6801-4fe8-b323-34afb819407d",
   "metadata": {},
   "outputs": [],
   "source": [
    "def play_audio(audio_segment):\n",
    "    temp_dir = tempfile.gettempdir()\n",
    "    temp_path = os.path.join(temp_dir, \"temp_audio.wav\")\n",
    "    try:\n",
    "        audio_segment.export(temp_path, format=\"wav\")\n",
    "        subprocess.call([\n",
    "            \"ffplay\",\n",
    "            \"-nodisp\",\n",
    "            \"-autoexit\",\n",
    "            \"-hide_banner\",\n",
    "            temp_path\n",
    "        ], stdout=subprocess.DEVNULL, stderr=subprocess.DEVNULL)\n",
    "    finally:\n",
    "        try:\n",
    "            os.remove(temp_path)\n",
    "        except Exception:\n",
    "            pass\n",
    " \n",
    "def talker(message):\n",
    "    response = openai.audio.speech.create(\n",
    "        model=\"tts-1\",\n",
    "        voice=\"alloy\", \n",
    "        input=message\n",
    "    )\n",
    "    audio_stream = BytesIO(response.content)\n",
    "    audio = AudioSegment.from_file(audio_stream, format=\"mp3\")\n",
    "    play_audio(audio)\n",
    "\n",
    "\n"
   ]
  },
  {
   "cell_type": "code",
   "execution_count": 12,
   "id": "8e22eb60-81b3-4f0b-ac82-76fbdbf4021b",
   "metadata": {},
   "outputs": [],
   "source": [
    "def chat(history):\n",
    "    messages = [{\"role\": \"system\", \"content\": system_message}] + history\n",
    "    response = openai.chat.completions.create(model=MODEL, messages=messages, tools=tools)\n",
    "    image = None\n",
    "\n",
    "    if response.choices[0].finish_reason == \"tool_calls\":\n",
    "        message = response.choices[0].message\n",
    "        response, country = handle_tool_call(message)\n",
    "        messages.append(message)\n",
    "        messages.append(response)\n",
    "        image = artist(country)\n",
    "        response = openai.chat.completions.create(model=MODEL, messages=messages)\n",
    "\n",
    "    reply = response.choices[0].message.content\n",
    "    history += [{\"role\": \"assistant\", \"content\": reply}]\n",
    "\n",
    "    return history, image"
   ]
  },
  {
   "cell_type": "code",
   "execution_count": 13,
   "id": "62d8cba1-328c-4354-a397-0736f7d8f016",
   "metadata": {},
   "outputs": [],
   "source": [
    "def play_last_message(history):\n",
    "    # Fetch and play the last assistant response\n",
    "    if history:\n",
    "        last_message = history[-1]  # Get the last entry in history\n",
    "        if last_message[\"role\"] == \"assistant\":\n",
    "            talker(last_message[\"content\"]) "
   ]
  },
  {
   "cell_type": "code",
   "execution_count": 16,
   "id": "133906d7-3984-4c4d-b91b-a2480ac128ee",
   "metadata": {},
   "outputs": [
    {
     "name": "stdout",
     "output_type": "stream",
     "text": [
      "* Running on local URL:  http://127.0.0.1:7862\n",
      "\n",
      "To create a public link, set `share=True` in `launch()`.\n"
     ]
    },
    {
     "data": {
      "text/html": [
       "<div><iframe src=\"http://127.0.0.1:7862/\" width=\"100%\" height=\"500\" allow=\"autoplay; camera; microphone; clipboard-read; clipboard-write;\" frameborder=\"0\" allowfullscreen></iframe></div>"
      ],
      "text/plain": [
       "<IPython.core.display.HTML object>"
      ]
     },
     "metadata": {},
     "output_type": "display_data"
    },
    {
     "data": {
      "text/plain": []
     },
     "execution_count": 16,
     "metadata": {},
     "output_type": "execute_result"
    }
   ],
   "source": [
    "# Gradio UI\n",
    "with gr.Blocks() as ui:\n",
    "    with gr.Row():\n",
    "        chatbot = gr.Chatbot(height=500, type=\"messages\")\n",
    "        image_output = gr.Image(height=500)\n",
    "    with gr.Row():\n",
    "        entry = gr.Textbox(label=\"Chat with our AI Assistant:\")\n",
    "    with gr.Row():\n",
    "        clear = gr.Button(\"Clear\")\n",
    "        play_button = gr.Button(\"🔊 Play Last Response\")\n",
    "    \n",
    "    # Add user message to history\n",
    "    def do_entry(message, history):\n",
    "        history.append({\"role\": \"user\", \"content\": message})\n",
    "        return \"\", history\n",
    "\n",
    "    # Submit user input and generate assistant response\n",
    "    entry.submit(do_entry, inputs=[entry, chatbot], outputs=[entry, chatbot]).then(\n",
    "        chat, inputs=chatbot, outputs=[chatbot, image_output]\n",
    "    )\n",
    "\n",
    "    # Play the last assistant response\n",
    "    play_button.click(\n",
    "        play_last_message,\n",
    "        inputs=[chatbot],\n",
    "        outputs=[]  # No UI output, just play the audio\n",
    "    )\n",
    "\n",
    "    # Clear the chat history\n",
    "    clear.click(lambda: None, inputs=None, outputs=[chatbot, image_output])\n",
    "\n",
    "ui.launch()"
   ]
  },
  {
   "cell_type": "code",
   "execution_count": null,
   "id": "cf1ba5b1-c6f0-4f7f-a2ba-1e426e8f411b",
   "metadata": {},
   "outputs": [],
   "source": []
  }
 ],
 "metadata": {
  "kernelspec": {
   "display_name": "Python 3 (ipykernel)",
   "language": "python",
   "name": "python3"
  },
  "language_info": {
   "codemirror_mode": {
    "name": "ipython",
    "version": 3
   },
   "file_extension": ".py",
   "mimetype": "text/x-python",
   "name": "python",
   "nbconvert_exporter": "python",
   "pygments_lexer": "ipython3",
   "version": "3.11.10"
  }
 },
 "nbformat": 4,
 "nbformat_minor": 5
}
